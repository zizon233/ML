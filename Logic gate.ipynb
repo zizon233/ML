{
 "cells": [
  {
   "cell_type": "code",
   "execution_count": 1,
   "metadata": {},
   "outputs": [],
   "source": [
    "import numpy as np"
   ]
  },
  {
   "cell_type": "code",
   "execution_count": 2,
   "metadata": {},
   "outputs": [],
   "source": [
    "def AND(x1, x2):\n",
    "    x = np.array([x1, x2])\n",
    "    w = np.array([0.5, 0.5])\n",
    "    b = -0.6\n",
    "    tmp = np.sum(w*x) + b\n",
    "    if tmp <= 0:\n",
    "        return 0\n",
    "    else:\n",
    "        return 1\n",
    "    \n",
    "def NAND(x1, x2):\n",
    "    x = np.array([x1, x2])\n",
    "    w = np.array([-0.5, -0.5])\n",
    "    b = 0.6\n",
    "    tmp = np.sum(w*x) + b\n",
    "    if tmp <= 0:\n",
    "        return 0\n",
    "    else:\n",
    "        return 1\n",
    "    \n",
    "def OR(x1, x2):\n",
    "    x = np.array([x1, x2])\n",
    "    w = np.array([0.5, 0.5])\n",
    "    b = -0.4\n",
    "    tmp = np.sum(w*x) + b\n",
    "    if tmp <= 0:\n",
    "        return 0\n",
    "    else:\n",
    "        return 1"
   ]
  },
  {
   "cell_type": "code",
   "execution_count": 3,
   "metadata": {},
   "outputs": [
    {
     "name": "stdout",
     "output_type": "stream",
     "text": [
      "1 1 AND : 1\n",
      "1 1 NAND : 0\n",
      "1 1 OR : 1\n",
      "1 0 AND : 0\n",
      "1 0 NAND : 1\n",
      "1 0 OR : 1\n",
      "0 1 AND : 0\n",
      "0 1 NAND : 1\n",
      "0 1 OR : 1\n",
      "0 0 AND : 0\n",
      "0 0 NAND : 1\n",
      "0 0 OR : 0\n"
     ]
    }
   ],
   "source": [
    "li1 = [1, 1, 0, 0]\n",
    "li2 = [1, 0, 1, 0]\n",
    "for i in range(4):\n",
    "    print(li1[i], li2[i], 'AND :', AND(li1[i], li2[i]))\n",
    "    print(li1[i], li2[i], 'NAND :', NAND(li1[i], li2[i]))\n",
    "    print(li1[i], li2[i], 'OR :', OR(li1[i], li2[i]))"
   ]
  }
 ],
 "metadata": {
  "kernelspec": {
   "display_name": "Python 3",
   "language": "python",
   "name": "python3"
  },
  "language_info": {
   "codemirror_mode": {
    "name": "ipython",
    "version": 3
   },
   "file_extension": ".py",
   "mimetype": "text/x-python",
   "name": "python",
   "nbconvert_exporter": "python",
   "pygments_lexer": "ipython3",
   "version": "3.6.4"
  }
 },
 "nbformat": 4,
 "nbformat_minor": 2
}

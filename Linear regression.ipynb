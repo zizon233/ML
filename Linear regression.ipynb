{
 "cells": [
  {
   "cell_type": "code",
   "execution_count": 1,
   "metadata": {},
   "outputs": [],
   "source": [
    "import tensorflow as tf\n",
    "import numpy as np\n",
    "import matplotlib.pyplot as plt\n",
    "import random"
   ]
  },
  {
   "cell_type": "code",
   "execution_count": 2,
   "metadata": {},
   "outputs": [
    {
     "name": "stdout",
     "output_type": "stream",
     "text": [
      "WARNING:tensorflow:From C:\\Users\\zizon\\Anaconda3\\envs\\tensorflow\\lib\\site-packages\\tensorflow\\python\\framework\\op_def_library.py:263: colocate_with (from tensorflow.python.framework.ops) is deprecated and will be removed in a future version.\n",
      "Instructions for updating:\n",
      "Colocations handled automatically by placer.\n"
     ]
    }
   ],
   "source": [
    "x_train=[1,2,3,4,5,6]\n",
    "y_train=[1,2,3,3.7,5.4,6.3]\n",
    "\n",
    "X=tf.placeholder(tf.float32)\n",
    "Y=tf.placeholder(tf.float32)\n",
    "W=tf.Variable(tf.random_normal([1]), name='weight')\n",
    "b=tf.Variable(tf.random_normal([1]), name='bias')\n",
    "\n",
    "hypothesis=W*X+b"
   ]
  },
  {
   "cell_type": "code",
   "execution_count": 3,
   "metadata": {},
   "outputs": [],
   "source": [
    "cost=tf.reduce_mean(tf.square(hypothesis-Y))"
   ]
  },
  {
   "cell_type": "code",
   "execution_count": 4,
   "metadata": {},
   "outputs": [
    {
     "name": "stdout",
     "output_type": "stream",
     "text": [
      "WARNING:tensorflow:From C:\\Users\\zizon\\Anaconda3\\envs\\tensorflow\\lib\\site-packages\\tensorflow\\python\\ops\\math_ops.py:3066: to_int32 (from tensorflow.python.ops.math_ops) is deprecated and will be removed in a future version.\n",
      "Instructions for updating:\n",
      "Use tf.cast instead.\n"
     ]
    }
   ],
   "source": [
    "optimizer=tf.train.GradientDescentOptimizer(learning_rate=0.01)\n",
    "train=optimizer.minimize(cost)"
   ]
  },
  {
   "cell_type": "code",
   "execution_count": 5,
   "metadata": {},
   "outputs": [],
   "source": [
    "sess=tf.Session()\n",
    "sess.run(tf.global_variables_initializer())"
   ]
  },
  {
   "cell_type": "code",
   "execution_count": 6,
   "metadata": {
    "scrolled": true
   },
   "outputs": [
    {
     "name": "stdout",
     "output_type": "stream",
     "text": [
      "0 91.11875 [-0.31359786] [-1.3902029]\n",
      "20 0.15888716 [1.2519171] [-0.9614905]\n",
      "40 0.14249317 [1.2396511] [-0.90576065]\n",
      "60 0.12834558 [1.2275879] [-0.85411495]\n",
      "80 0.11612284 [1.2163754] [-0.8061111]\n",
      "100 0.10556304 [1.2059532] [-0.7614922]\n",
      "120 0.096439965 [1.196266] [-0.72001934]\n",
      "140 0.0885581 [1.1872619] [-0.681471]\n",
      "160 0.08174856 [1.1788927] [-0.64564073]\n",
      "180 0.07586556 [1.1711137] [-0.6123371]\n",
      "200 0.07078295 [1.1638831] [-0.5813818]\n",
      "220 0.06639182 [1.1571625] [-0.5526092]\n",
      "240 0.062598094 [1.1509157] [-0.52586544]\n",
      "260 0.05932054 [1.1451093] [-0.5010074]\n",
      "280 0.056488916 [1.1397125] [-0.47790217]\n",
      "300 0.054042533 [1.1346961] [-0.45642614]\n",
      "320 0.051928993 [1.1300335] [-0.4364645]\n",
      "340 0.050103027 [1.1256996] [-0.41791037]\n",
      "360 0.04852548 [1.1216713] [-0.4006646]\n",
      "380 0.04716255 [1.1179272] [-0.38463476]\n",
      "400 0.045985054 [1.1144469] [-0.36973533]\n",
      "420 0.044967797 [1.1112121] [-0.35588652]\n",
      "440 0.0440889 [1.1082054] [-0.34301424]\n",
      "460 0.043329585 [1.1054107] [-0.33104956]\n",
      "480 0.04267356 [1.102813] [-0.31992856]\n",
      "500 0.042106796 [1.1003985] [-0.30959168]\n",
      "520 0.041617196 [1.0981544] [-0.29998365]\n",
      "540 0.04119417 [1.0960684] [-0.2910532]\n",
      "560 0.040828694 [1.0941294] [-0.28275242]\n",
      "580 0.040512957 [1.0923274] [-0.2750369]\n",
      "600 0.040240157 [1.0906522] [-0.26786557]\n",
      "620 0.040004455 [1.0890952] [-0.26119974]\n",
      "640 0.039800864 [1.0876482] [-0.25500417]\n",
      "660 0.039624993 [1.0863029] [-0.24924533]\n",
      "680 0.039472986 [1.0850527] [-0.24389254]\n",
      "700 0.0393417 [1.0838904] [-0.2389172]\n",
      "720 0.039228257 [1.0828103] [-0.23429272]\n",
      "740 0.039130256 [1.0818062] [-0.22999425]\n",
      "760 0.039045572 [1.0808731] [-0.22599892]\n",
      "780 0.038972437 [1.0800056] [-0.22228535]\n",
      "800 0.03890923 [1.0791994] [-0.21883361]\n",
      "820 0.038854644 [1.07845] [-0.21562526]\n",
      "840 0.038807455 [1.0777535] [-0.2126432]\n",
      "860 0.03876672 [1.0771061] [-0.20987152]\n",
      "880 0.03873151 [1.0765041] [-0.20729506]\n",
      "900 0.038701106 [1.0759449] [-0.20490028]\n",
      "920 0.038674828 [1.0754249] [-0.2026744]\n",
      "940 0.038652107 [1.0749416] [-0.20060547]\n",
      "960 0.03863248 [1.0744925] [-0.19868247]\n",
      "980 0.038615543 [1.074075] [-0.19689506]\n",
      "1000 0.03860091 [1.073687] [-0.19523366]\n",
      "1020 0.03858825 [1.0733262] [-0.19368942]\n",
      "1040 0.038577344 [1.0729909] [-0.19225411]\n",
      "1060 0.038567908 [1.0726794] [-0.19092001]\n",
      "1080 0.038559724 [1.0723897] [-0.18967995]\n",
      "1100 0.03855269 [1.0721204] [-0.18852732]\n",
      "1120 0.038546603 [1.0718702] [-0.18745594]\n",
      "1140 0.038541358 [1.0716376] [-0.1864601]\n",
      "1160 0.038536776 [1.0714214] [-0.18553449]\n",
      "1180 0.03853287 [1.0712204] [-0.18467411]\n",
      "1200 0.03852948 [1.0710336] [-0.18387447]\n",
      "1220 0.038526554 [1.07086] [-0.18313119]\n",
      "1240 0.03852402 [1.0706986] [-0.18244031]\n",
      "1260 0.038521856 [1.0705487] [-0.18179816]\n",
      "1280 0.038519945 [1.0704093] [-0.18120132]\n",
      "1300 0.03851832 [1.0702796] [-0.18064654]\n",
      "1320 0.03851689 [1.0701592] [-0.18013088]\n",
      "1340 0.03851569 [1.0700473] [-0.17965166]\n",
      "1360 0.03851462 [1.0699432] [-0.17920613]\n",
      "1380 0.038513735 [1.0698465] [-0.178792]\n",
      "1400 0.038512934 [1.0697566] [-0.17840713]\n",
      "1420 0.038512234 [1.0696731] [-0.17804942]\n",
      "1440 0.038511667 [1.0695953] [-0.17771693]\n",
      "1460 0.03851117 [1.0695232] [-0.17740785]\n",
      "1480 0.038510714 [1.0694561] [-0.17712058]\n",
      "1500 0.038510323 [1.0693938] [-0.17685358]\n",
      "1520 0.03850999 [1.0693358] [-0.17660542]\n",
      "1540 0.038509738 [1.0692819] [-0.17637478]\n",
      "1560 0.038509477 [1.0692319] [-0.17616034]\n",
      "1580 0.03850928 [1.0691853] [-0.17596109]\n",
      "1600 0.03850909 [1.0691419] [-0.17577586]\n",
      "1620 0.03850894 [1.0691018] [-0.17560372]\n",
      "1640 0.038508825 [1.0690645] [-0.17544371]\n",
      "1660 0.038508695 [1.0690297] [-0.175295]\n",
      "1680 0.038508598 [1.0689974] [-0.17515668]\n",
      "1700 0.038508493 [1.0689675] [-0.17502812]\n",
      "1720 0.03850843 [1.0689394] [-0.17490873]\n",
      "1740 0.038508344 [1.0689136] [-0.17479773]\n",
      "1760 0.038508292 [1.0688894] [-0.17469455]\n",
      "1780 0.038508244 [1.0688671] [-0.17459862]\n",
      "1800 0.038508207 [1.0688462] [-0.17450944]\n",
      "1820 0.0385082 [1.0688268] [-0.1744266]\n",
      "1840 0.038508162 [1.0688089] [-0.17434953]\n",
      "1860 0.038508113 [1.0687921] [-0.17427802]\n",
      "1880 0.03850813 [1.0687766] [-0.17421138]\n",
      "1900 0.038508076 [1.0687621] [-0.1741495]\n",
      "1920 0.038508046 [1.0687487] [-0.17409192]\n",
      "1940 0.038508028 [1.0687363] [-0.17403853]\n",
      "1960 0.038508024 [1.0687245] [-0.17398888]\n",
      "1980 0.03850803 [1.0687138] [-0.17394266]\n",
      "2000 0.03850798 [1.0687039] [-0.17389977]\n",
      "2020 0.038507972 [1.0686944] [-0.17385994]\n",
      "2040 0.038508 [1.0686858] [-0.17382275]\n",
      "2060 0.038507998 [1.0686778] [-0.17378826]\n",
      "2080 0.03850796 [1.0686703] [-0.17375627]\n",
      "2100 0.038507964 [1.0686632] [-0.17372644]\n",
      "2120 0.03850798 [1.0686567] [-0.17369862]\n",
      "2140 0.038507957 [1.0686508] [-0.17367287]\n",
      "2160 0.038507953 [1.0686452] [-0.17364898]\n",
      "2180 0.03850797 [1.0686401] [-0.17362683]\n",
      "2200 0.038507953 [1.0686352] [-0.1736062]\n",
      "2220 0.03850796 [1.0686306] [-0.17358692]\n",
      "2240 0.038507972 [1.0686264] [-0.17356896]\n",
      "2260 0.038507972 [1.0686226] [-0.1735523]\n",
      "2280 0.038507942 [1.068619] [-0.17353687]\n",
      "2300 0.038507935 [1.0686157] [-0.17352253]\n",
      "2320 0.038507923 [1.0686126] [-0.17350926]\n",
      "2340 0.03850795 [1.0686097] [-0.17349693]\n",
      "2360 0.038507935 [1.0686071] [-0.1734855]\n",
      "2380 0.038507964 [1.0686046] [-0.17347491]\n",
      "2400 0.038507935 [1.0686022] [-0.173465]\n",
      "2420 0.038507935 [1.0685999] [-0.17345564]\n",
      "2440 0.03850797 [1.0685979] [-0.17344691]\n",
      "2460 0.03850797 [1.068596] [-0.17343882]\n",
      "2480 0.038507927 [1.0685943] [-0.1734313]\n",
      "2500 0.038507923 [1.0685927] [-0.17342433]\n",
      "2520 0.03850795 [1.0685911] [-0.17341788]\n",
      "2540 0.038507946 [1.0685898] [-0.17341189]\n",
      "2560 0.03850794 [1.0685885] [-0.17340636]\n",
      "2580 0.038507953 [1.0685873] [-0.17340122]\n",
      "2600 0.038507942 [1.0685862] [-0.17339644]\n",
      "2620 0.038507935 [1.0685852] [-0.17339204]\n",
      "2640 0.038507942 [1.0685842] [-0.17338796]\n",
      "2660 0.038507942 [1.0685834] [-0.17338416]\n",
      "2680 0.038507942 [1.0685825] [-0.17338064]\n",
      "2700 0.03850796 [1.0685818] [-0.17337735]\n",
      "2720 0.03850794 [1.0685811] [-0.17337437]\n",
      "2740 0.03850793 [1.0685805] [-0.17337155]\n",
      "2760 0.038507964 [1.0685798] [-0.17336893]\n",
      "2780 0.038507946 [1.0685792] [-0.1733665]\n",
      "2800 0.038507964 [1.0685787] [-0.1733643]\n",
      "2820 0.03850795 [1.0685782] [-0.17336223]\n",
      "2840 0.038507942 [1.0685778] [-0.17336027]\n",
      "2860 0.03850795 [1.0685774] [-0.17335849]\n",
      "2880 0.038507957 [1.068577] [-0.17335682]\n",
      "2900 0.03850793 [1.0685767] [-0.17335533]\n",
      "2920 0.038507897 [1.0685763] [-0.17335384]\n",
      "2940 0.038507957 [1.0685761] [-0.17335263]\n",
      "2960 0.03850795 [1.0685757] [-0.17335144]\n",
      "2980 0.038507946 [1.0685755] [-0.17335027]\n",
      "3000 0.038507927 [1.0685753] [-0.17334913]\n",
      "3020 0.03850794 [1.068575] [-0.17334817]\n",
      "3040 0.038507935 [1.0685748] [-0.17334726]\n",
      "3060 0.03850792 [1.0685747] [-0.1733464]\n",
      "3080 0.03850795 [1.0685744] [-0.1733457]\n",
      "3100 0.03850794 [1.0685743] [-0.17334507]\n",
      "3120 0.038507953 [1.0685742] [-0.17334448]\n",
      "3140 0.03850794 [1.0685741] [-0.17334388]\n",
      "3160 0.03850794 [1.0685738] [-0.17334329]\n",
      "3180 0.038507923 [1.0685737] [-0.17334269]\n",
      "3200 0.038507942 [1.0685736] [-0.17334211]\n",
      "3220 0.038507935 [1.0685735] [-0.17334154]\n",
      "3240 0.038507942 [1.0685735] [-0.17334123]\n",
      "3260 0.03850794 [1.0685734] [-0.17334086]\n",
      "3280 0.038507927 [1.0685734] [-0.17334056]\n",
      "3300 0.038507957 [1.0685732] [-0.17334026]\n",
      "3320 0.03850795 [1.0685731] [-0.17333996]\n",
      "3340 0.038507942 [1.0685731] [-0.17333966]\n",
      "3360 0.038507942 [1.068573] [-0.17333938]\n",
      "3380 0.038507942 [1.0685729] [-0.1733391]\n",
      "3400 0.03850793 [1.0685729] [-0.1733388]\n",
      "3420 0.038507927 [1.0685728] [-0.17333852]\n",
      "3440 0.03850792 [1.0685728] [-0.1733383]\n",
      "3460 0.03850792 [1.0685728] [-0.1733383]\n",
      "3480 0.03850792 [1.0685728] [-0.1733383]\n",
      "3500 0.03850792 [1.0685728] [-0.1733383]\n"
     ]
    }
   ],
   "source": [
    "for step in range(3501):\n",
    "    #sess.run(cost)\n",
    "    #print(step.sess.run(cost).sess.run(W).sess.run(b))\n",
    "    cost_val, W_val, b_val, _ = sess.run([cost, W, b, train], feed_dict={X:x_train,Y:y_train})\n",
    "    if step % 20 == 0:\n",
    "        print(step, cost_val, W_val, b_val)"
   ]
  },
  {
   "cell_type": "code",
   "execution_count": 7,
   "metadata": {},
   "outputs": [
    {
     "data": {
      "image/png": "[encoded data removed]",
      "text/plain": [
       "<Figure size 432x288 with 1 Axes>"
      ]
     },
     "metadata": {
      "needs_background": "light"
     },
     "output_type": "display_data"
    }
   ],
   "source": [
    "plt.scatter(x_train,y_train)\n",
    "plt.plot(x_train, x_train*W_val+b_val, 'r')\n",
    "plt.show()"
   ]
  },
  {
   "cell_type": "code",
   "execution_count": 8,
   "metadata": {},
   "outputs": [
    {
     "name": "stdout",
     "output_type": "stream",
     "text": [
      "[21.198118]\n"
     ]
    }
   ],
   "source": [
    "print(sess.run(hypothesis, feed_dict={X :20}))"
   ]
  }
 ],
 "metadata": {
  "kernelspec": {
   "display_name": "Python 3",
   "language": "python",
   "name": "python3"
  },
  "language_info": {
   "codemirror_mode": {
    "name": "ipython",
    "version": 3
   },
   "file_extension": ".py",
   "mimetype": "text/x-python",
   "name": "python",
   "nbconvert_exporter": "python",
   "pygments_lexer": "ipython3",
   "version": "3.7.3"
  }
 },
 "nbformat": 4,
 "nbformat_minor": 2
}
